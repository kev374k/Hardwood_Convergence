{
 "cells": [
  {
   "cell_type": "code",
   "execution_count": 1,
   "metadata": {},
   "outputs": [],
   "source": [
    "import os\n",
    "import pandas as pd\n",
    "import numpy as np\n",
    "from bs4 import BeautifulSoup"
   ]
  },
  {
   "cell_type": "code",
   "execution_count": 12,
   "metadata": {},
   "outputs": [
    {
     "ename": "ValueError",
     "evalue": "No tables found",
     "output_type": "error",
     "traceback": [
      "\u001b[0;31m---------------------------------------------------------------------------\u001b[0m",
      "\u001b[0;31mValueError\u001b[0m                                Traceback (most recent call last)",
      "Cell \u001b[0;32mIn [12], line 7\u001b[0m\n\u001b[1;32m      5\u001b[0m soup\u001b[39m.\u001b[39mfind(\u001b[39m'\u001b[39m\u001b[39mtr\u001b[39m\u001b[39m'\u001b[39m, class_ \u001b[39m=\u001b[39m \u001b[39m'\u001b[39m\u001b[39mthead\u001b[39m\u001b[39m'\u001b[39m)\u001b[39m.\u001b[39mdecompose()\n\u001b[1;32m      6\u001b[0m team \u001b[39m=\u001b[39m soup\u001b[39m.\u001b[39mfind(\u001b[39mid\u001b[39m \u001b[39m=\u001b[39m \u001b[39m'\u001b[39m\u001b[39mdiv_expanded_standings\u001b[39m\u001b[39m'\u001b[39m)\n\u001b[0;32m----> 7\u001b[0m t \u001b[39m=\u001b[39m pd\u001b[39m.\u001b[39mread_html(\u001b[39mstr\u001b[39m(team))[\u001b[39m0\u001b[39m]\n",
      "File \u001b[0;32m/opt/homebrew/lib/python3.10/site-packages/pandas/util/_decorators.py:317\u001b[0m, in \u001b[0;36mdeprecate_nonkeyword_arguments.<locals>.decorate.<locals>.wrapper\u001b[0;34m(*args, **kwargs)\u001b[0m\n\u001b[1;32m    311\u001b[0m \u001b[39mif\u001b[39;00m \u001b[39mlen\u001b[39m(args) \u001b[39m>\u001b[39m num_allow_args:\n\u001b[1;32m    312\u001b[0m     warnings\u001b[39m.\u001b[39mwarn(\n\u001b[1;32m    313\u001b[0m         msg\u001b[39m.\u001b[39mformat(arguments\u001b[39m=\u001b[39marguments),\n\u001b[1;32m    314\u001b[0m         \u001b[39mFutureWarning\u001b[39;00m,\n\u001b[1;32m    315\u001b[0m         stacklevel\u001b[39m=\u001b[39mfind_stack_level(inspect\u001b[39m.\u001b[39mcurrentframe()),\n\u001b[1;32m    316\u001b[0m     )\n\u001b[0;32m--> 317\u001b[0m \u001b[39mreturn\u001b[39;00m func(\u001b[39m*\u001b[39;49margs, \u001b[39m*\u001b[39;49m\u001b[39m*\u001b[39;49mkwargs)\n",
      "File \u001b[0;32m/opt/homebrew/lib/python3.10/site-packages/pandas/io/html.py:1205\u001b[0m, in \u001b[0;36mread_html\u001b[0;34m(io, match, flavor, header, index_col, skiprows, attrs, parse_dates, thousands, encoding, decimal, converters, na_values, keep_default_na, displayed_only, extract_links)\u001b[0m\n\u001b[1;32m   1201\u001b[0m validate_header_arg(header)\n\u001b[1;32m   1203\u001b[0m io \u001b[39m=\u001b[39m stringify_path(io)\n\u001b[0;32m-> 1205\u001b[0m \u001b[39mreturn\u001b[39;00m _parse(\n\u001b[1;32m   1206\u001b[0m     flavor\u001b[39m=\u001b[39;49mflavor,\n\u001b[1;32m   1207\u001b[0m     io\u001b[39m=\u001b[39;49mio,\n\u001b[1;32m   1208\u001b[0m     match\u001b[39m=\u001b[39;49mmatch,\n\u001b[1;32m   1209\u001b[0m     header\u001b[39m=\u001b[39;49mheader,\n\u001b[1;32m   1210\u001b[0m     index_col\u001b[39m=\u001b[39;49mindex_col,\n\u001b[1;32m   1211\u001b[0m     skiprows\u001b[39m=\u001b[39;49mskiprows,\n\u001b[1;32m   1212\u001b[0m     parse_dates\u001b[39m=\u001b[39;49mparse_dates,\n\u001b[1;32m   1213\u001b[0m     thousands\u001b[39m=\u001b[39;49mthousands,\n\u001b[1;32m   1214\u001b[0m     attrs\u001b[39m=\u001b[39;49mattrs,\n\u001b[1;32m   1215\u001b[0m     encoding\u001b[39m=\u001b[39;49mencoding,\n\u001b[1;32m   1216\u001b[0m     decimal\u001b[39m=\u001b[39;49mdecimal,\n\u001b[1;32m   1217\u001b[0m     converters\u001b[39m=\u001b[39;49mconverters,\n\u001b[1;32m   1218\u001b[0m     na_values\u001b[39m=\u001b[39;49mna_values,\n\u001b[1;32m   1219\u001b[0m     keep_default_na\u001b[39m=\u001b[39;49mkeep_default_na,\n\u001b[1;32m   1220\u001b[0m     displayed_only\u001b[39m=\u001b[39;49mdisplayed_only,\n\u001b[1;32m   1221\u001b[0m     extract_links\u001b[39m=\u001b[39;49mextract_links,\n\u001b[1;32m   1222\u001b[0m )\n",
      "File \u001b[0;32m/opt/homebrew/lib/python3.10/site-packages/pandas/io/html.py:1006\u001b[0m, in \u001b[0;36m_parse\u001b[0;34m(flavor, io, match, attrs, encoding, displayed_only, extract_links, **kwargs)\u001b[0m\n\u001b[1;32m   1004\u001b[0m \u001b[39melse\u001b[39;00m:\n\u001b[1;32m   1005\u001b[0m     \u001b[39massert\u001b[39;00m retained \u001b[39mis\u001b[39;00m \u001b[39mnot\u001b[39;00m \u001b[39mNone\u001b[39;00m  \u001b[39m# for mypy\u001b[39;00m\n\u001b[0;32m-> 1006\u001b[0m     \u001b[39mraise\u001b[39;00m retained\n\u001b[1;32m   1008\u001b[0m ret \u001b[39m=\u001b[39m []\n\u001b[1;32m   1009\u001b[0m \u001b[39mfor\u001b[39;00m table \u001b[39min\u001b[39;00m tables:\n",
      "File \u001b[0;32m/opt/homebrew/lib/python3.10/site-packages/pandas/io/html.py:986\u001b[0m, in \u001b[0;36m_parse\u001b[0;34m(flavor, io, match, attrs, encoding, displayed_only, extract_links, **kwargs)\u001b[0m\n\u001b[1;32m    983\u001b[0m p \u001b[39m=\u001b[39m parser(io, compiled_match, attrs, encoding, displayed_only, extract_links)\n\u001b[1;32m    985\u001b[0m \u001b[39mtry\u001b[39;00m:\n\u001b[0;32m--> 986\u001b[0m     tables \u001b[39m=\u001b[39m p\u001b[39m.\u001b[39;49mparse_tables()\n\u001b[1;32m    987\u001b[0m \u001b[39mexcept\u001b[39;00m \u001b[39mValueError\u001b[39;00m \u001b[39mas\u001b[39;00m caught:\n\u001b[1;32m    988\u001b[0m     \u001b[39m# if `io` is an io-like object, check if it's seekable\u001b[39;00m\n\u001b[1;32m    989\u001b[0m     \u001b[39m# and try to rewind it before trying the next parser\u001b[39;00m\n\u001b[1;32m    990\u001b[0m     \u001b[39mif\u001b[39;00m \u001b[39mhasattr\u001b[39m(io, \u001b[39m\"\u001b[39m\u001b[39mseekable\u001b[39m\u001b[39m\"\u001b[39m) \u001b[39mand\u001b[39;00m io\u001b[39m.\u001b[39mseekable():\n",
      "File \u001b[0;32m/opt/homebrew/lib/python3.10/site-packages/pandas/io/html.py:262\u001b[0m, in \u001b[0;36m_HtmlFrameParser.parse_tables\u001b[0;34m(self)\u001b[0m\n\u001b[1;32m    254\u001b[0m \u001b[39mdef\u001b[39;00m \u001b[39mparse_tables\u001b[39m(\u001b[39mself\u001b[39m):\n\u001b[1;32m    255\u001b[0m     \u001b[39m\"\"\"\u001b[39;00m\n\u001b[1;32m    256\u001b[0m \u001b[39m    Parse and return all tables from the DOM.\u001b[39;00m\n\u001b[1;32m    257\u001b[0m \n\u001b[0;32m   (...)\u001b[0m\n\u001b[1;32m    260\u001b[0m \u001b[39m    list of parsed (header, body, footer) tuples from tables.\u001b[39;00m\n\u001b[1;32m    261\u001b[0m \u001b[39m    \"\"\"\u001b[39;00m\n\u001b[0;32m--> 262\u001b[0m     tables \u001b[39m=\u001b[39m \u001b[39mself\u001b[39;49m\u001b[39m.\u001b[39;49m_parse_tables(\u001b[39mself\u001b[39;49m\u001b[39m.\u001b[39;49m_build_doc(), \u001b[39mself\u001b[39;49m\u001b[39m.\u001b[39;49mmatch, \u001b[39mself\u001b[39;49m\u001b[39m.\u001b[39;49mattrs)\n\u001b[1;32m    263\u001b[0m     \u001b[39mreturn\u001b[39;00m (\u001b[39mself\u001b[39m\u001b[39m.\u001b[39m_parse_thead_tbody_tfoot(table) \u001b[39mfor\u001b[39;00m table \u001b[39min\u001b[39;00m tables)\n",
      "File \u001b[0;32m/opt/homebrew/lib/python3.10/site-packages/pandas/io/html.py:618\u001b[0m, in \u001b[0;36m_BeautifulSoupHtml5LibFrameParser._parse_tables\u001b[0;34m(self, doc, match, attrs)\u001b[0m\n\u001b[1;32m    615\u001b[0m tables \u001b[39m=\u001b[39m doc\u001b[39m.\u001b[39mfind_all(element_name, attrs\u001b[39m=\u001b[39mattrs)\n\u001b[1;32m    617\u001b[0m \u001b[39mif\u001b[39;00m \u001b[39mnot\u001b[39;00m tables:\n\u001b[0;32m--> 618\u001b[0m     \u001b[39mraise\u001b[39;00m \u001b[39mValueError\u001b[39;00m(\u001b[39m\"\u001b[39m\u001b[39mNo tables found\u001b[39m\u001b[39m\"\u001b[39m)\n\u001b[1;32m    620\u001b[0m result \u001b[39m=\u001b[39m []\n\u001b[1;32m    621\u001b[0m unique_tables \u001b[39m=\u001b[39m \u001b[39mset\u001b[39m()\n",
      "\u001b[0;31mValueError\u001b[0m: No tables found"
     ]
    }
   ],
   "source": [
    "with open('files/full_player_stats/1991.html') as f:\n",
    "    page = f.read()\n",
    "\n",
    "soup = BeautifulSoup(page, 'html.parser')\n",
    "soup.find('tr', class_ = 'thead').decompose()\n",
    "team = soup.find(id = 'div_expanded_standings')\n",
    "t = pd.read_html(str(team))[0]"
   ]
  },
  {
   "cell_type": "code",
   "execution_count": 13,
   "metadata": {},
   "outputs": [],
   "source": [
    "from selenium import webdriver\n",
    "driver = webdriver.Safari()"
   ]
  },
  {
   "cell_type": "code",
   "execution_count": 15,
   "metadata": {},
   "outputs": [],
   "source": [
    "import time\n",
    "\n",
    "year = 1991\n",
    "stats_url = 'https://www.basketball-reference.com/leagues/NBA_{}_standings.html' \n",
    "\n",
    "with open('files/hi/{}.html'.format(year), 'w+') as file:\n",
    "    driver.get(stats_url.format(year))\n",
    "    driver.execute_script('window.scrollTo(1,10000)')\n",
    "    time.sleep(2)\n",
    "    html = driver.page_source\n",
    "    file.write(html) "
   ]
  },
  {
   "cell_type": "code",
   "execution_count": 16,
   "metadata": {},
   "outputs": [],
   "source": [
    "df = []\n",
    "with open('files/hi/1991.html') as f:\n",
    "    f = f.read()\n",
    "    soup = BeautifulSoup(f, 'html.parser')\n",
    "    soup.find('tr', class_ = 'thead').decompose()\n",
    "    player_stats = soup.find_all(id = 'expanded_standings')\n",
    "    stats = pd.read_html(str(player_stats))[0]\n",
    "    stats['Year'] = year\n",
    "    \n",
    "    df.append(stats)"
   ]
  },
  {
   "cell_type": "code",
   "execution_count": 17,
   "metadata": {},
   "outputs": [
    {
     "data": {
      "text/plain": [
       "[   Unnamed: 0_level_0      Unnamed: 1_level_0 Unnamed: 2_level_0  Place  \\\n",
       "                    Rk                    Team            Overall   Home   \n",
       " 0                   1  Portland Trail Blazers              63-19   36-5   \n",
       " 1                   2           Chicago Bulls              61-21   35-6   \n",
       " 2                   3      Los Angeles Lakers              58-24   33-8   \n",
       " 3                   4          Boston Celtics              56-26   35-6   \n",
       " 4                   5            Phoenix Suns              55-27   32-9   \n",
       " 5                   6       San Antonio Spurs              55-27   33-8   \n",
       " 6                   7               Utah Jazz              54-28   36-5   \n",
       " 7                   8         Houston Rockets              52-30  31-10   \n",
       " 8                   9         Detroit Pistons              50-32   32-9   \n",
       " 9                  10         Milwaukee Bucks              48-34   33-8   \n",
       " 10                 11   Golden State Warriors              44-38  30-11   \n",
       " 11                 12      Philadelphia 76ers              44-38  29-12   \n",
       " 12                 13           Atlanta Hawks              43-39  29-12   \n",
       " 13                 14          Indiana Pacers              41-41  29-12   \n",
       " 14                 15     Seattle SuperSonics              41-41  28-13   \n",
       " 15                 16         New York Knicks              39-43  21-20   \n",
       " 16                 17     Cleveland Cavaliers              33-49  23-18   \n",
       " 17                 18    Los Angeles Clippers              31-51  23-18   \n",
       " 18                 19           Orlando Magic              31-51  24-17   \n",
       " 19                 20      Washington Bullets              30-52  21-20   \n",
       " 20                 21  Minnesota Timberwolves              29-53  21-20   \n",
       " 21                 22        Dallas Mavericks              28-54  20-21   \n",
       " 22                 23       Charlotte Hornets              26-56  17-24   \n",
       " 23                 24         New Jersey Nets              26-56  20-21   \n",
       " 24                 25        Sacramento Kings              25-57  24-17   \n",
       " 25                 26              Miami Heat              24-58  18-23   \n",
       " 26                 27          Denver Nuggets              20-62  17-24   \n",
       " \n",
       "           Conference        Division                ... All-Star Margin  \\\n",
       "      Road          E      W        A      C      M  ...     Post     ≤3   \n",
       " 0   27-14       21-5  42-14     10-2   11-3   24-4  ...    24-10    6-3   \n",
       " 1   26-15      42-12   19-9     17-7   25-5   10-4  ...     29-7    5-6   \n",
       " 2   25-16       18-8  40-16      9-3    9-5   21-7  ...    23-13    4-3   \n",
       " 3   21-20      35-19   21-7     20-6  15-13   11-3  ...    21-14    7-3   \n",
       " 4   23-18       20-6  35-21      9-3   11-3  18-10  ...    25-11    4-4   \n",
       " 5   22-19       19-7  36-20     10-2    9-5   20-8  ...    23-14    7-6   \n",
       " 6   18-23      16-10  38-18      8-4    8-6   21-7  ...    23-12    8-3   \n",
       " 7   21-20       19-7  33-23      9-3   10-4   20-8  ...     25-9   10-8   \n",
       " 8   18-23      33-21  17-11    14-10  19-11   10-4  ...    16-17    6-7   \n",
       " 9   15-26      33-21  15-13     17-7  16-14    7-7  ...    18-15    6-6   \n",
       " 10  14-27      16-10  28-28      8-4    8-6  15-13  ...    18-18    9-7   \n",
       " 11  15-26      32-22  12-16    14-12  18-10    5-9  ...    19-17   11-9   \n",
       " 12  14-27      26-28  17-11     15-9  11-19    9-5  ...    17-18    4-7   \n",
       " 13  12-29      27-27  14-14    12-12  15-15    8-6  ...    22-14    7-8   \n",
       " 14  13-28      14-12  27-29      7-5    7-7  15-13  ...    19-18    7-9   \n",
       " 15  18-23      28-26  11-17     17-9  11-17    5-9  ...    19-16    5-9   \n",
       " 16  10-31      23-31  10-18    12-12  11-19    6-8  ...    18-17    7-5   \n",
       " 17   8-33       5-21  26-30     1-11   4-10  16-12  ...    16-19   6-10   \n",
       " 18   7-34       8-18  23-33      6-6   2-12  13-15  ...    17-18    7-5   \n",
       " 19   9-32      22-32   8-20    10-16  12-16   4-10  ...     9-25    9-8   \n",
       " 20   8-33      12-14  17-39      7-5    5-9   9-19  ...    13-24    6-8   \n",
       " 21   8-33      11-15  17-39      7-5   4-10   7-21  ...    11-27    9-6   \n",
       " 22   9-32      17-37   9-19     9-15   8-22    5-9  ...    12-23    3-8   \n",
       " 23   6-35      18-36   8-20     8-18  10-18   3-11  ...    12-22    4-7   \n",
       " 24   1-40       7-19  18-38      5-7   2-12   9-19  ...    12-25    2-6   \n",
       " 25   6-35      15-39   9-19     9-17   6-22    6-8  ...    11-24    5-6   \n",
       " 26   3-38       8-18  12-44      3-9    5-9   8-20  ...     6-31    4-1   \n",
       " \n",
       "           Month                                Year  \n",
       "       ≥10   Nov   Dec   Jan   Feb   Mar   Apr        \n",
       " 0    39-9  12-1  15-3  10-4   7-5   9-5  10-1  1991  \n",
       " 1    43-8   9-6  11-3   9-4  11-1  13-4   8-3  1991  \n",
       " 2    38-9   7-5  10-4  15-2   9-4  10-6   7-3  1991  \n",
       " 3   39-14  12-2  11-3   9-6   9-4  11-5   4-6  1991  \n",
       " 4    36-9   8-4  10-5  10-5   8-5  13-3   6-5  1991  \n",
       " 5    26-8   8-4  11-2  12-5   4-7  12-5   8-4  1991  \n",
       " 6   28-17   8-6  11-4  10-5   7-3  10-6   8-4  1991  \n",
       " 7   24-13   8-7   8-6   7-8   9-3  14-1   6-5  1991  \n",
       " 8   20-12  13-2   6-9  13-2   5-8   8-6   5-5  1991  \n",
       " 9   24-12  11-4  10-4  6-10   8-4   8-7   5-5  1991  \n",
       " 10  25-14  10-6   5-7  10-4   4-9   8-9   7-3  1991  \n",
       " 11  14-14  10-6   9-4   4-9   8-5   9-8   4-6  1991  \n",
       " 12  24-16  4-10  11-3   9-7   8-5   6-9   5-5  1991  \n",
       " 13  20-20  5-10   6-8   7-6   7-6  11-6   5-5  1991  \n",
       " 14  21-19   4-7   8-8   8-7   6-6   8-9   7-4  1991  \n",
       " 15  18-22   6-8   6-7  7-10   7-6   9-6   4-6  1991  \n",
       " 16  15-19   9-7  2-11  3-11   6-7  5-10   8-3  1991  \n",
       " 17  15-27   6-8  5-10  4-11   4-7   9-8   3-7  1991  \n",
       " 18  13-27  3-12  4-11  4-10   8-3   7-8   5-7  1991  \n",
       " 19  10-28  4-10   7-7   9-7  2-10  4-11   4-7  1991  \n",
       " 20  11-30  5-10   3-9   6-8  4-10  4-11   7-5  1991  \n",
       " 21  11-30   6-6  4-10  5-10   6-7  4-12   3-9  1991  \n",
       " 22   8-32   8-7  1-11  4-11   4-9  5-12   4-6  1991  \n",
       " 23  11-33  5-10   5-8  4-12   5-7  4-12   3-7  1991  \n",
       " 24  10-40  1-12   5-9   6-8  3-10  4-12   6-6  1991  \n",
       " 25  15-39   5-9  3-12  3-12   6-6  5-11   2-8  1991  \n",
       " 26   6-43  3-11  3-12   7-7  2-10  4-12  1-10  1991  \n",
       " \n",
       " [27 rows x 22 columns]]"
      ]
     },
     "execution_count": 17,
     "metadata": {},
     "output_type": "execute_result"
    }
   ],
   "source": [
    "df"
   ]
  },
  {
   "cell_type": "code",
   "execution_count": null,
   "metadata": {},
   "outputs": [],
   "source": []
  }
 ],
 "metadata": {
  "kernelspec": {
   "display_name": "Python 3",
   "language": "python",
   "name": "python3"
  },
  "language_info": {
   "codemirror_mode": {
    "name": "ipython",
    "version": 3
   },
   "file_extension": ".py",
   "mimetype": "text/x-python",
   "name": "python",
   "nbconvert_exporter": "python",
   "pygments_lexer": "ipython3",
   "version": "3.10.10"
  },
  "orig_nbformat": 4,
  "vscode": {
   "interpreter": {
    "hash": "b0fa6594d8f4cbf19f97940f81e996739fb7646882a419484c72d19e05852a7e"
   }
  }
 },
 "nbformat": 4,
 "nbformat_minor": 2
}
